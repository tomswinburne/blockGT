{
 "cells": [
  {
   "cell_type": "markdown",
   "id": "fc4a2a4e-f24f-45b6-ba8a-04971f6835e2",
   "metadata": {},
   "source": [
    "# Reducing ill conditioned Markov Chains with Graph Transformation (GT)\n",
    "\n",
    "This cell loads our `PyGT` package, `tqdm` for progress bars, and defines some helper functions"
   ]
  },
  {
   "cell_type": "code",
   "execution_count": 2,
   "id": "10d185ce-2408-434e-be29-ba228a6a0899",
   "metadata": {
    "collapsed": true,
    "jupyter": {
     "outputs_hidden": true,
     "source_hidden": true
    },
    "tags": []
   },
   "outputs": [
    {
     "name": "stdout",
     "output_type": "stream",
     "text": [
      "Requirement already satisfied: PyGT in /Users/ts/miniconda3/envs/julia/lib/python3.10/site-packages (0.3.0)\n",
      "Requirement already satisfied: tqdm in /Users/ts/miniconda3/envs/julia/lib/python3.10/site-packages (4.62.3)\n",
      "Requirement already satisfied: numpy>=1.17 in /Users/ts/miniconda3/envs/julia/lib/python3.10/site-packages (from PyGT) (1.22.1)\n",
      "Requirement already satisfied: scipy>=1.5 in /Users/ts/miniconda3/envs/julia/lib/python3.10/site-packages (from PyGT) (1.7.3)\n",
      "Requirement already satisfied: pathos>=0.2 in /Users/ts/miniconda3/envs/julia/lib/python3.10/site-packages (from PyGT) (0.2.8)\n",
      "Requirement already satisfied: matplotlib>=3 in /Users/ts/miniconda3/envs/julia/lib/python3.10/site-packages (from PyGT) (3.5.1)\n",
      "Requirement already satisfied: packaging>=20.0 in /Users/ts/miniconda3/envs/julia/lib/python3.10/site-packages (from matplotlib>=3->PyGT) (21.3)\n",
      "Requirement already satisfied: fonttools>=4.22.0 in /Users/ts/miniconda3/envs/julia/lib/python3.10/site-packages (from matplotlib>=3->PyGT) (4.28.5)\n",
      "Requirement already satisfied: pyparsing>=2.2.1 in /Users/ts/miniconda3/envs/julia/lib/python3.10/site-packages (from matplotlib>=3->PyGT) (3.0.4)\n",
      "Requirement already satisfied: cycler>=0.10 in /Users/ts/miniconda3/envs/julia/lib/python3.10/site-packages (from matplotlib>=3->PyGT) (0.11.0)\n",
      "Requirement already satisfied: pillow>=6.2.0 in /Users/ts/miniconda3/envs/julia/lib/python3.10/site-packages (from matplotlib>=3->PyGT) (9.0.0)\n",
      "Requirement already satisfied: python-dateutil>=2.7 in /Users/ts/miniconda3/envs/julia/lib/python3.10/site-packages (from matplotlib>=3->PyGT) (2.8.2)\n",
      "Requirement already satisfied: kiwisolver>=1.0.1 in /Users/ts/miniconda3/envs/julia/lib/python3.10/site-packages (from matplotlib>=3->PyGT) (1.3.2)\n",
      "Requirement already satisfied: ppft>=1.6.6.4 in /Users/ts/miniconda3/envs/julia/lib/python3.10/site-packages (from pathos>=0.2->PyGT) (1.6.6.4)\n",
      "Requirement already satisfied: dill>=0.3.4 in /Users/ts/miniconda3/envs/julia/lib/python3.10/site-packages (from pathos>=0.2->PyGT) (0.3.4)\n",
      "Requirement already satisfied: pox>=0.3.0 in /Users/ts/miniconda3/envs/julia/lib/python3.10/site-packages (from pathos>=0.2->PyGT) (0.3.0)\n",
      "Requirement already satisfied: multiprocess>=0.70.12 in /Users/ts/miniconda3/envs/julia/lib/python3.10/site-packages (from pathos>=0.2->PyGT) (0.70.12.2)\n",
      "Requirement already satisfied: six>=1.7.3 in /Users/ts/miniconda3/envs/julia/lib/python3.10/site-packages (from ppft>=1.6.6.4->pathos>=0.2->PyGT) (1.16.0)\n"
     ]
    }
   ],
   "source": [
    "!pip install PyGT tqdm\n",
    "import numpy as np\n",
    "import matplotlib.pyplot as plt\n",
    "import scipy.linalg as spla\n",
    "import os.path as Path\n",
    "from PyGT.io import load_ktn\n",
    "from PyGT.GT import blockGT\n",
    "from PyGT.mfpt import full_MFPT_matrix\n",
    "from PyGT.stats import compute_passage_stats as fpt\n",
    "from scipy.sparse import diags,eye,issparse\n",
    "from tqdm.notebook import tqdm\n",
    "def ev(Q):\n",
    "    nu = spla.eigvals(Q)\n",
    "    return np.sort(-nu.real)\n",
    "\n",
    "def select_states_to_remove(B_matrix,participation):\n",
    "    N_states = B_matrix.shape[0]\n",
    "    denseB = np.zeros(B.shape)\n",
    "    B.todense(out=denseB)\n",
    "\n",
    "    connections = denseB>0\n",
    "\n",
    "    rm_vec = np.ones(N_states,bool)\n",
    "\n",
    "    for i in range(N):\n",
    "        # boundary nodes\n",
    "        if not (participation[connections[i]]==participation[i]).min():\n",
    "            rm_vec[i] = False\n",
    "\n",
    "        # local minima\n",
    "        if (u)[participation == participation[i]].min()==(u)[i]:\n",
    "            rm_vec[i] = False\n",
    "    print(f\"\"\"\n",
    "        Retained Nodes: {N_states-rm_vec.sum()}\n",
    "    \"\"\")\n",
    "    return rm_vec\n",
    "\n",
    "def condition_number_estimation(Q):\n",
    "    if issparse(Q):\n",
    "        MQ = Q.todense().copy()\n",
    "    else:\n",
    "        MQ = Q.copy()\n",
    "    MQ -= np.diag(np.diag(MQ))\n",
    "    return np.linalg.cond(MQ)\n",
    "\n",
    "\n"
   ]
  },
  {
   "cell_type": "markdown",
   "id": "cef33584-2b40-4471-8d18-1f1f58644343",
   "metadata": {},
   "source": [
    "## Load 9-macrostate model and BACE-defined community participation"
   ]
  },
  {
   "cell_type": "code",
   "execution_count": 6,
   "id": "d69418bd-9090-4240-bdd1-2e657ed73017",
   "metadata": {},
   "outputs": [
    {
     "name": "stdout",
     "output_type": "stream",
     "text": [
      "\n",
      "\tConnected Clusters: 1, of which 95% have <= 994 states\n",
      "\tRetaining largest cluster with 994 nodes\n",
      "\n",
      "\n",
      "    Estimated condition number of B: 254603.2560868545\n",
      "    \n",
      "\tCommunity 1 : 112 states\n",
      "\tCommunity 2 : 130 states\n",
      "\tCommunity 3 : 89 states\n",
      "\tCommunity 4 : 147 states\n",
      "\tCommunity 5 : 110 states\n",
      "\tCommunity 6 : 85 states\n",
      "\tCommunity 7 : 186 states\n",
      "\tCommunity 8 : 98 states\n",
      "\tCommunity 9 : 37 states\n"
     ]
    }
   ],
   "source": [
    "data_path = 'example-data-9-communities/'\n",
    "\n",
    "T = 3e0\n",
    "\n",
    "B, K, tau, N, u, s, Emin, retained = \\\n",
    "  load_ktn(path=data_path,beta=1.0/T,screen=True)\n",
    "\n",
    "Q = K-diags(1.0/tau)\n",
    "\n",
    "full_cond = condition_number_estimation(B)\n",
    "print(f\"\"\"\n",
    "    Estimated condition number of B: {full_cond}\n",
    "    \"\"\")\n",
    "\n",
    "pi = np.exp(-u/T+s)\n",
    "pi /= pi.sum()\n",
    "\n",
    "communities = \\\n",
    "  np.loadtxt(Path.join(data_path,'communities_bace9.dat')).astype(int)\n",
    "\n",
    "for ic in zip(*np.unique(communities,return_counts=True)):\n",
    "    print(\"\\tCommunity\",ic[0]+1,\":\",ic[1],\"states\")\n"
   ]
  },
  {
   "cell_type": "markdown",
   "id": "c88e2754-cae0-48e1-903c-8781b7f5dc9b",
   "metadata": {},
   "source": [
    "## Find boundary nodes and community minima, then perform GT reduction"
   ]
  },
  {
   "cell_type": "code",
   "execution_count": 7,
   "id": "8a54ed8f-f8d7-4083-b572-938ff4827ca5",
   "metadata": {},
   "outputs": [
    {
     "name": "stdout",
     "output_type": "stream",
     "text": [
      "\n",
      "        Retained Nodes: 215\n",
      "    \n"
     ]
    },
    {
     "data": {
      "application/vnd.jupyter.widget-view+json": {
       "model_id": "3c39cd6e58164a60ab45c92f9088e4aa",
       "version_major": 2,
       "version_minor": 0
      },
      "text/plain": [
       "GT:   0%|          | 0/779 [00:00<?, ?it/s]"
      ]
     },
     "metadata": {},
     "output_type": "display_data"
    },
    {
     "name": "stdout",
     "output_type": "stream",
     "text": [
      "GT removed 779 nodes in 0.086 seconds with 0 floating point corrections\n",
      "\n",
      "    Estimated condition number of    B: 254603.26\n",
      "    Estimated condition number of GT_B: 195543.82\n",
      "\n"
     ]
    }
   ],
   "source": [
    "# boolean vector of states to remove\n",
    "rm_vec = select_states_to_remove(B,communities)\n",
    "\n",
    "retained_states = ~rm_vec.copy()\n",
    "\n",
    "# block GT reduction\n",
    "r_B, r_tau, r_Q = blockGT(rm_vec,B,tau,block=50,rates=True,screen=True)\n",
    "\n",
    "r_pi = pi[~rm_vec] * r_tau / tau[~rm_vec]\n",
    "\n",
    "r_communities = communities[~rm_vec]\n",
    "r_full_cond = condition_number_estimation(r_B)\n",
    "\n",
    "print(f\"\"\"\n",
    "    Estimated condition number of    B: {full_cond:.2f}\n",
    "    Estimated condition number of GT_B: {r_full_cond:.2f}\n",
    "\"\"\")"
   ]
  },
  {
   "cell_type": "markdown",
   "id": "4f0d0a05-c748-4c48-9253-4799c87a9f9c",
   "metadata": {},
   "source": [
    "## First passage time distributions\n"
   ]
  },
  {
   "cell_type": "code",
   "execution_count": 12,
   "id": "2a6e96c9-ec63-454f-8d03-b741b56ce398",
   "metadata": {},
   "outputs": [
    {
     "data": {
      "application/vnd.jupyter.widget-view+json": {
       "model_id": "41246f1caebb405d942eea2bed317203",
       "version_major": 2,
       "version_minor": 0
      },
      "text/plain": [
       "  0%|          | 0/15 [00:00<?, ?it/s]"
      ]
     },
     "metadata": {},
     "output_type": "display_data"
    },
    {
     "ename": "ValueError",
     "evalue": "attempt to get argmax of an empty sequence",
     "output_type": "error",
     "traceback": [
      "\u001b[0;31m---------------------------------------------------------------------------\u001b[0m",
      "\u001b[0;31mValueError\u001b[0m                                Traceback (most recent call last)",
      "\u001b[0;32m/var/folders/wp/4v4kmnfd2x724ylzdr9wtwm80000gn/T/ipykernel_2156/4157670725.py\u001b[0m in \u001b[0;36m<module>\u001b[0;34m\u001b[0m\n\u001b[1;32m     12\u001b[0m             \u001b[0mp_0\u001b[0m \u001b[0;34m=\u001b[0m \u001b[0mnp\u001b[0m\u001b[0;34m.\u001b[0m\u001b[0mzeros\u001b[0m\u001b[0;34m(\u001b[0m\u001b[0mpi\u001b[0m\u001b[0;34m.\u001b[0m\u001b[0mshape\u001b[0m\u001b[0;34m)\u001b[0m\u001b[0;34m\u001b[0m\u001b[0;34m\u001b[0m\u001b[0m\n\u001b[1;32m     13\u001b[0m             \u001b[0mp_0\u001b[0m\u001b[0;34m[\u001b[0m\u001b[0mA_sel\u001b[0m\u001b[0;34m]\u001b[0m \u001b[0;34m=\u001b[0m \u001b[0mnp\u001b[0m\u001b[0;34m.\u001b[0m\u001b[0marange\u001b[0m\u001b[0;34m(\u001b[0m\u001b[0mA_sel\u001b[0m\u001b[0;34m.\u001b[0m\u001b[0msum\u001b[0m\u001b[0;34m(\u001b[0m\u001b[0;34m)\u001b[0m\u001b[0;34m)\u001b[0m \u001b[0;34m==\u001b[0m \u001b[0mpi\u001b[0m\u001b[0;34m[\u001b[0m\u001b[0mA_sel\u001b[0m\u001b[0;34m]\u001b[0m\u001b[0;34m.\u001b[0m\u001b[0margmax\u001b[0m\u001b[0;34m(\u001b[0m\u001b[0;34m)\u001b[0m\u001b[0;34m\u001b[0m\u001b[0;34m\u001b[0m\u001b[0m\n\u001b[0;32m---> 14\u001b[0;31m             \u001b[0mp_0\u001b[0m\u001b[0;34m[\u001b[0m\u001b[0mB_sel\u001b[0m\u001b[0;34m]\u001b[0m \u001b[0;34m=\u001b[0m \u001b[0mnp\u001b[0m\u001b[0;34m.\u001b[0m\u001b[0marange\u001b[0m\u001b[0;34m(\u001b[0m\u001b[0mB_sel\u001b[0m\u001b[0;34m.\u001b[0m\u001b[0msum\u001b[0m\u001b[0;34m(\u001b[0m\u001b[0;34m)\u001b[0m\u001b[0;34m)\u001b[0m \u001b[0;34m==\u001b[0m \u001b[0mpi\u001b[0m\u001b[0;34m[\u001b[0m\u001b[0mB_sel\u001b[0m\u001b[0;34m]\u001b[0m\u001b[0;34m.\u001b[0m\u001b[0margmax\u001b[0m\u001b[0;34m(\u001b[0m\u001b[0;34m)\u001b[0m\u001b[0;34m\u001b[0m\u001b[0;34m\u001b[0m\u001b[0m\n\u001b[0m\u001b[1;32m     15\u001b[0m \u001b[0;34m\u001b[0m\u001b[0m\n\u001b[1;32m     16\u001b[0m             \u001b[0;31m# define same quantities for GT reduced system\u001b[0m\u001b[0;34m\u001b[0m\u001b[0;34m\u001b[0m\u001b[0m\n",
      "\u001b[0;31mValueError\u001b[0m: attempt to get argmax of an empty sequence"
     ]
    },
    {
     "data": {
      "image/png": "[encoded data removed]",
      "text/plain": [
       "<Figure size 1800x720 with 15 Axes>"
      ]
     },
     "metadata": {},
     "output_type": "display_data"
    }
   ],
   "source": [
    "fig,axs = plt.subplots(3,5,figsize=(15,6),dpi=120,sharex='col')\n",
    "fig.patch.set_facecolor('white')\n",
    "cc = 0\n",
    "pbar = tqdm(total=15)\n",
    "for cA in range(16):\n",
    "    for cB in range(6):\n",
    "        if cA>cB:\n",
    "            A_sel = communities==cA-1\n",
    "            B_sel = communities==cB-1\n",
    "\n",
    "            # define initial distribution as in paper\n",
    "            p_0 = np.zeros(pi.shape)\n",
    "            p_0[A_sel] = np.arange(A_sel.sum()) == pi[A_sel].argmax()\n",
    "            p_0[B_sel] = np.arange(B_sel.sum()) == pi[B_sel].argmax()\n",
    "\n",
    "            # define same quantities for GT reduced system\n",
    "            r_p_0 = p_0[retained_states]\n",
    "            r_A_sel = A_sel[retained_states]\n",
    "            r_B_sel = B_sel[retained_states]\n",
    "\n",
    "            # mfpt: <t_AB>, <t^2_AB>, <t_BA>, <t^2_BA>\n",
    "            mfpt,fptd = fpt(A_sel=A_sel,B_sel=B_sel,pi=p_0,K=Q,dopdf=True)\n",
    "\n",
    "\n",
    "            # r_mfpt: <t_AB>, <t^2_AB>, <t_BA>, <t^2_BA>\n",
    "            r_mfpt,r_fptd = \\\n",
    "                fpt(A_sel=r_A_sel,B_sel=r_B_sel,pi=r_p_0,K=r_Q,dopdf=True)\n",
    "\n",
    "            i,j = cc%2,cc//2\n",
    "            axs[i,j].semilogx(fptd[:,2]/mfpt[2],fptd[:,3],lw=3,\n",
    "                            label=fr\"{cB}$\\to${cA}\")\n",
    "            axs[i,j].semilogx(r_fptd[:,2]/mfpt[2],r_fptd[:,3],'--',lw=3,\n",
    "                            label=fr\"{cB}$\\to${cA} (GT)\")\n",
    "\n",
    "            axs[i,j].semilogx(fptd[:,0]/mfpt[0],fptd[:,1],lw=3,\n",
    "                            label=fr\"{cA}$\\to${cB}\")\n",
    "            axs[i,j].semilogx(r_fptd[:,0]/mfpt[0],r_fptd[:,1],'--',lw=3,\n",
    "                            label=fr\"{cA}$\\to${cB} (GT)\")\n",
    "\n",
    "            axs[i,j].set_yticks([])\n",
    "            if i==0:\n",
    "                axs[i,j].set_xticks([])\n",
    "            else:\n",
    "                axs[i,j].set_xlabel(r\"Time $t/\\langle{t}\\rangle$\")\n",
    "\n",
    "            if j==0:\n",
    "                axs[i,j].set_ylabel(r\"PDF ${\\rm p}(t)$\")\n",
    "\n",
    "            axs[i,j].legend(fontsize=8)\n",
    "            cc+=1\n",
    "            pbar.update(1)\n",
    "plt.suptitle(\"Selected first passage distributions for 9-community model,\"\n",
    "  f\" T={T}\")\n",
    "plt.subplots_adjust(wspace=0,hspace=0)\n",
    "plt.savefig(f\"pdf_comp_T{T}.pdf\")\n",
    "plt.show()"
   ]
  },
  {
   "cell_type": "code",
   "execution_count": null,
   "id": "ea076df7-ad16-4456-b601-b41c3dc423dd",
   "metadata": {},
   "outputs": [],
   "source": []
  }
 ],
 "metadata": {
  "kernelspec": {
   "display_name": "Python 3 (ipykernel)",
   "language": "python",
   "name": "python3"
  },
  "language_info": {
   "codemirror_mode": {
    "name": "ipython",
    "version": 3
   },
   "file_extension": ".py",
   "mimetype": "text/x-python",
   "name": "python",
   "nbconvert_exporter": "python",
   "pygments_lexer": "ipython3",
   "version": "3.10.2"
  }
 },
 "nbformat": 4,
 "nbformat_minor": 5
}
